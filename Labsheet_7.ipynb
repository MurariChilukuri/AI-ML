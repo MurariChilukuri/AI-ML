{
  "nbformat": 4,
  "nbformat_minor": 0,
  "metadata": {
    "colab": {
      "provenance": [],
      "authorship_tag": "ABX9TyO7VpWqNp0rvl7O8jTvAnqt",
      "include_colab_link": true
    },
    "kernelspec": {
      "name": "python3",
      "display_name": "Python 3"
    },
    "language_info": {
      "name": "python"
    }
  },
  "cells": [
    {
      "cell_type": "markdown",
      "metadata": {
        "id": "view-in-github",
        "colab_type": "text"
      },
      "source": [
        "<a href=\"https://colab.research.google.com/github/MurariChilukuri/AI-ML/blob/main/Labsheet_7.ipynb\" target=\"_parent\"><img src=\"https://colab.research.google.com/assets/colab-badge.svg\" alt=\"Open In Colab\"/></a>"
      ]
    },
    {
      "cell_type": "markdown",
      "source": [
        "Q1: Implement the Bagging based Ensemble Model using CART (Clssification and Regression Trees)as base learners.No. of baselearners =100.      Use cross validation as the model estimation method\n"
      ],
      "metadata": {
        "id": "JSMRu55doo-p"
      }
    },
    {
      "cell_type": "code",
      "execution_count": 17,
      "metadata": {
        "colab": {
          "base_uri": "https://localhost:8080/"
        },
        "id": "VCs2Ii1viTXz",
        "outputId": "c4171491-01af-4515-9a58-334d6248ebbf"
      },
      "outputs": [
        {
          "output_type": "execute_result",
          "data": {
            "text/plain": [
              "(768, 9)"
            ]
          },
          "metadata": {},
          "execution_count": 17
        }
      ],
      "source": [
        "import pandas\n",
        "from sklearn import model_selection\n",
        "from sklearn.ensemble import BaggingClassifier\n",
        "from sklearn.tree import DecisionTreeClassifier\n",
        "url = \"https://raw.githubusercontent.com/jbrownlee/Datasets/master/pima-indians-diabetes.data.csv\"\n",
        "names = ['preg', 'plas', 'pres', 'skin', 'test', 'mass', 'pedi', 'age', 'class']\n",
        "df = pandas.read_csv(url, names=names)\n",
        "df.shape"
      ]
    },
    {
      "cell_type": "code",
      "source": [
        "array = df.values\n",
        "x = array[:, 0:8]\n",
        "y = array[:, 8]\n",
        "Kfold = model_selection.KFold(n_splits=10, random_state=7, shuffle=True)\n",
        "cart = DecisionTreeClassifier()\n",
        "num_trees = 100"
      ],
      "metadata": {
        "id": "Ww_Z5JzNkLZb"
      },
      "execution_count": 4,
      "outputs": []
    },
    {
      "cell_type": "code",
      "source": [
        "model = BaggingClassifier(estimator=cart, n_estimators=num_trees, random_state=7)\n",
        "results = model_selection.cross_val_score(model, x, y, cv=Kfold)\n",
        "average_accuracy = sum(results)/len(results)\n",
        "print(\"Average Accuracy is\", average_accuracy)"
      ],
      "metadata": {
        "colab": {
          "base_uri": "https://localhost:8080/"
        },
        "id": "9GWdaIdtlk8j",
        "outputId": "739f2b3c-18ad-4792-9b38-b3c64645979d"
      },
      "execution_count": 18,
      "outputs": [
        {
          "output_type": "stream",
          "name": "stdout",
          "text": [
            "Average Accuracy is 0.7435064935064934\n"
          ]
        }
      ]
    },
    {
      "cell_type": "markdown",
      "source": [
        "Q2: Implement the AdaBoost Ensemble model for classification usig 10 base learners and cross validation"
      ],
      "metadata": {
        "id": "0WU8ynArqF6G"
      }
    },
    {
      "cell_type": "code",
      "source": [
        "import pandas\n",
        "from sklearn import model_selection\n",
        "from sklearn.ensemble import AdaBoostClassifier\n",
        "from sklearn.tree import DecisionTreeClassifier\n",
        "url = \"https://raw.githubusercontent.com/jbrownlee/Datasets/master/pima-indians-diabetes.data.csv\"\n",
        "names = ['preg', 'plas', 'pres', 'skin', 'test', 'mass', 'pedi', 'age', 'class']\n",
        "df = pandas.read_csv(url, names=names)\n",
        "df.shape"
      ],
      "metadata": {
        "colab": {
          "base_uri": "https://localhost:8080/"
        },
        "id": "KMQP5R-Mnfx3",
        "outputId": "ee757d97-a3be-4747-dad4-b212fb89d734"
      },
      "execution_count": 19,
      "outputs": [
        {
          "output_type": "execute_result",
          "data": {
            "text/plain": [
              "(768, 9)"
            ]
          },
          "metadata": {},
          "execution_count": 19
        }
      ]
    },
    {
      "cell_type": "code",
      "source": [
        "array = df.values\n",
        "x = array[:, 0:8]\n",
        "y = array[:, 8]\n",
        "Kfold = model_selection.KFold(n_splits=10, random_state=7, shuffle=True)\n",
        "cart = DecisionTreeClassifier()\n",
        "num_trees = 10"
      ],
      "metadata": {
        "id": "4UrD_XXVq9O5"
      },
      "execution_count": 21,
      "outputs": []
    },
    {
      "cell_type": "code",
      "source": [
        "model = AdaBoostClassifier(estimator=cart, n_estimators=num_trees, random_state=7)\n",
        "results = model_selection.cross_val_score(model, x, y, cv=Kfold)\n",
        "average_accuracy = sum(results)/len(results)\n",
        "print(\"Average Accuracy is\", average_accuracy)"
      ],
      "metadata": {
        "colab": {
          "base_uri": "https://localhost:8080/"
        },
        "id": "Jl48i0hHq9MJ",
        "outputId": "64f3a2c1-3386-4369-c989-6b870c8b98f8"
      },
      "execution_count": 20,
      "outputs": [
        {
          "output_type": "stream",
          "name": "stdout",
          "text": [
            "Average Accuracy is 0.688961038961039\n"
          ]
        },
        {
          "output_type": "stream",
          "name": "stderr",
          "text": [
            "/usr/local/lib/python3.10/dist-packages/sklearn/ensemble/_weight_boosting.py:527: FutureWarning: The SAMME.R algorithm (the default) is deprecated and will be removed in 1.6. Use the SAMME algorithm to circumvent this warning.\n",
            "  warnings.warn(\n",
            "/usr/local/lib/python3.10/dist-packages/sklearn/ensemble/_weight_boosting.py:527: FutureWarning: The SAMME.R algorithm (the default) is deprecated and will be removed in 1.6. Use the SAMME algorithm to circumvent this warning.\n",
            "  warnings.warn(\n",
            "/usr/local/lib/python3.10/dist-packages/sklearn/ensemble/_weight_boosting.py:527: FutureWarning: The SAMME.R algorithm (the default) is deprecated and will be removed in 1.6. Use the SAMME algorithm to circumvent this warning.\n",
            "  warnings.warn(\n",
            "/usr/local/lib/python3.10/dist-packages/sklearn/ensemble/_weight_boosting.py:527: FutureWarning: The SAMME.R algorithm (the default) is deprecated and will be removed in 1.6. Use the SAMME algorithm to circumvent this warning.\n",
            "  warnings.warn(\n",
            "/usr/local/lib/python3.10/dist-packages/sklearn/ensemble/_weight_boosting.py:527: FutureWarning: The SAMME.R algorithm (the default) is deprecated and will be removed in 1.6. Use the SAMME algorithm to circumvent this warning.\n",
            "  warnings.warn(\n",
            "/usr/local/lib/python3.10/dist-packages/sklearn/ensemble/_weight_boosting.py:527: FutureWarning: The SAMME.R algorithm (the default) is deprecated and will be removed in 1.6. Use the SAMME algorithm to circumvent this warning.\n",
            "  warnings.warn(\n",
            "/usr/local/lib/python3.10/dist-packages/sklearn/ensemble/_weight_boosting.py:527: FutureWarning: The SAMME.R algorithm (the default) is deprecated and will be removed in 1.6. Use the SAMME algorithm to circumvent this warning.\n",
            "  warnings.warn(\n",
            "/usr/local/lib/python3.10/dist-packages/sklearn/ensemble/_weight_boosting.py:527: FutureWarning: The SAMME.R algorithm (the default) is deprecated and will be removed in 1.6. Use the SAMME algorithm to circumvent this warning.\n",
            "  warnings.warn(\n",
            "/usr/local/lib/python3.10/dist-packages/sklearn/ensemble/_weight_boosting.py:527: FutureWarning: The SAMME.R algorithm (the default) is deprecated and will be removed in 1.6. Use the SAMME algorithm to circumvent this warning.\n",
            "  warnings.warn(\n",
            "/usr/local/lib/python3.10/dist-packages/sklearn/ensemble/_weight_boosting.py:527: FutureWarning: The SAMME.R algorithm (the default) is deprecated and will be removed in 1.6. Use the SAMME algorithm to circumvent this warning.\n",
            "  warnings.warn(\n"
          ]
        }
      ]
    },
    {
      "cell_type": "markdown",
      "source": [
        "Q3:(Same as Q1)Implement the Bagging based Ensemble Model using k-Nearest Classifier as base learner. No.of bselearners=100. Use cross validation as the model estimation model."
      ],
      "metadata": {
        "id": "dMw8O3DQruP5"
      }
    },
    {
      "cell_type": "code",
      "source": [
        "import pandas\n",
        "from sklearn import model_selection\n",
        "from sklearn.ensemble import BaggingClassifier\n",
        "from sklearn.neighbors import KNeighborsClassifier\n",
        "url=\"https://raw.githubusercontent.com/jbrownlee/Datasets/master/pima-indians-diabetes.data.csv\"\n",
        "names=['preg','plas','pres','skin','test','mass','pedi','age','class']\n",
        "dataframe=pandas.read_csv(url,names=names)\n",
        "df = pandas.read_csv(url,names = names)\n",
        "df.shape"
      ],
      "metadata": {
        "colab": {
          "base_uri": "https://localhost:8080/"
        },
        "id": "lBtjoWzKvMWh",
        "outputId": "a5442d55-d9ca-40ab-c88f-0f74180f0c4d"
      },
      "execution_count": 23,
      "outputs": [
        {
          "output_type": "execute_result",
          "data": {
            "text/plain": [
              "(768, 9)"
            ]
          },
          "metadata": {},
          "execution_count": 23
        }
      ]
    },
    {
      "cell_type": "code",
      "source": [
        "aray = df.values\n",
        "x = aray[:,0:8]\n",
        "y = aray[:,8]\n",
        "kfold = model_selection.KFold(n_splits=10,random_state=7,shuffle=True)\n",
        "knn= KNeighborsClassifier()\n",
        "num_learners = 100\n",
        "model = BaggingClassifier(estimator=knn,n_estimators=num_learners,random_state=7)\n",
        "result = model_selection.cross_val_score(model,x,y,cv=kfold)\n",
        "average_accuracy = sum(result)/len(result)\n",
        "print(\"Average Accuracy is\", average_accuracy)"
      ],
      "metadata": {
        "colab": {
          "base_uri": "https://localhost:8080/"
        },
        "id": "-67rYbIOvS7s",
        "outputId": "c6e0b599-2e9b-47fd-91fc-53dbc7358829"
      },
      "execution_count": 25,
      "outputs": [
        {
          "output_type": "stream",
          "name": "stdout",
          "text": [
            "Average Accuracy is 0.7188140806561858\n"
          ]
        }
      ]
    }
  ]
}